{
 "cells": [
  {
   "cell_type": "code",
   "execution_count": 17,
   "id": "a4ed8a00-3db6-43fe-87a5-f45556cc9b1f",
   "metadata": {},
   "outputs": [
    {
     "name": "stdout",
     "output_type": "stream",
     "text": [
      "Output O1: 0.49517075552773543\n",
      "Output O2: 0.5202952198401902\n"
     ]
    }
   ],
   "source": [
    "# دالة توليد رقم عشوائي بين -0.5 و 0.5 بدون مكتبات\n",
    "def random_weight(seed):\n",
    "    seed = (seed * 9301 + 49297) % 233280  # معادلة توليد رقم شبه عشوائي\n",
    "    return (seed / 233280.0) - 0.5  # تحويل الرقم إلى النطاق المطلوب [-0.5, 0.5]\n",
    "\n",
    "# تعريف كلاس الشبكة العصبية\n",
    "class NeuralNetwork:\n",
    "    def __init__(self, seed=123):\n",
    "        \"\"\" تهيئة الأوزان والـ bias \"\"\"\n",
    "        self.weights = [random_weight(seed + i) for i in range(8)]  # توليد 8 أوزان عشوائية\n",
    "        self.b1 = 0.5\n",
    "        self.b2 = 0.7\n",
    "\n",
    "    def tanh(self, x):\n",
    "        \"\"\" دالة التفعيل tanh محسوبة يدويًا \"\"\"\n",
    "        e_pos = self.exp(x)\n",
    "        e_neg = self.exp(-x)\n",
    "        return (e_pos - e_neg) / (e_pos + e_neg)\n",
    "\n",
    "    def exp(self, x):\n",
    "        \"\"\" تقريب للدالة الأسية e^x باستخدام متسلسلة تايلور \"\"\"\n",
    "        n = 20  # عدد الحدود في المتسلسلة\n",
    "        result, factorial, power = 1.0, 1.0, 1.0\n",
    "        for i in range(1, n):\n",
    "            factorial *= i\n",
    "            power *= x\n",
    "            result += power / factorial\n",
    "        return result\n",
    "\n",
    "    def forward(self, i1, i2):\n",
    "        \"\"\" تنفيذ تمرير البيانات خلال الشبكة \"\"\"\n",
    "        w1, w2, w3, w4, w5, w6, w7, w8 = self.weights\n",
    "        \n",
    "        # حساب مخرجات الطبقة المخفية\n",
    "        h1_input = (i1 * w1) + (i2 * w3) + self.b1\n",
    "        h2_input = (i1 * w2) + (i2 * w4) + self.b1\n",
    "\n",
    "        h1_output = self.tanh(h1_input)\n",
    "        h2_output = self.tanh(h2_input)\n",
    "\n",
    "        # حساب مخرجات الطبقة النهائية\n",
    "        o1_input = (h1_output * w5) + (h2_output * w7) + self.b2\n",
    "        o2_input = (h1_output * w6) + (h2_output * w8) + self.b2\n",
    "\n",
    "        o1_output = self.tanh(o1_input)\n",
    "        o2_output = self.tanh(o2_input)\n",
    "\n",
    "        return o1_output, o2_output\n",
    "\n",
    "# إنشاء نموذج الشبكة العصبية\n",
    "nn = NeuralNetwork()\n",
    "\n",
    "# مدخلات الشبكة\n",
    "i1, i2 = 0.05, 0.10\n",
    "\n",
    "\n",
    "o1, o2 = nn.forward(i1, i2)\n",
    "print(\"Output O1:\", o1)\n",
    "print(\"Output O2:\", o2)\n"
   ]
  },
  {
   "cell_type": "code",
   "execution_count": null,
   "id": "33c27c13-6f2f-4545-af13-0f0911b025a7",
   "metadata": {},
   "outputs": [],
   "source": []
  }
 ],
 "metadata": {
  "kernelspec": {
   "display_name": "Python 3 (ipykernel)",
   "language": "python",
   "name": "python3"
  },
  "language_info": {
   "codemirror_mode": {
    "name": "ipython",
    "version": 3
   },
   "file_extension": ".py",
   "mimetype": "text/x-python",
   "name": "python",
   "nbconvert_exporter": "python",
   "pygments_lexer": "ipython3",
   "version": "3.13.1"
  }
 },
 "nbformat": 4,
 "nbformat_minor": 5
}
